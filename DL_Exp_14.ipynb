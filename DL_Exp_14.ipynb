{
  "nbformat": 4,
  "nbformat_minor": 0,
  "metadata": {
    "colab": {
      "provenance": [],
      "authorship_tag": "ABX9TyMDSXzQ+waymkFsRQT0WNiz",
      "include_colab_link": true
    },
    "kernelspec": {
      "name": "python3",
      "display_name": "Python 3"
    },
    "language_info": {
      "name": "python"
    }
  },
  "cells": [
    {
      "cell_type": "markdown",
      "metadata": {
        "id": "view-in-github",
        "colab_type": "text"
      },
      "source": [
        "<a href=\"https://colab.research.google.com/github/Madhav-22CSU108/LabManual_DeepLearning/blob/main/DL_Exp_14.ipynb\" target=\"_parent\"><img src=\"https://colab.research.google.com/assets/colab-badge.svg\" alt=\"Open In Colab\"/></a>"
      ]
    },
    {
      "cell_type": "code",
      "execution_count": null,
      "metadata": {
        "colab": {
          "base_uri": "https://localhost:8080/"
        },
        "id": "hNPxiBewkGw4",
        "outputId": "3b61dd62-92ee-4f5c-f514-3932fee49259"
      },
      "outputs": [
        {
          "output_type": "stream",
          "name": "stdout",
          "text": [
            "=== Bag-of-Words (CountVectorizer) ===\n",
            "Features: ['and' 'are' 'bag' 'data' 'fascinating' 'grams' 'is' 'language' 'love'\n",
            " 'natural' 'of' 'powerful' 'processing' 'simple' 'text' 'with' 'words'\n",
            " 'working' 'yet']\n",
            "Document-Term Matrix:\n",
            " [[0 0 0 0 1 0 1 1 0 1 0 0 1 0 0 0 0 0 0]\n",
            " [0 0 0 1 0 0 0 0 1 0 0 0 0 0 1 1 0 1 0]\n",
            " [1 1 1 0 0 1 0 0 0 0 1 1 0 1 0 0 1 0 1]]\n",
            "\n",
            "=== Bag-of-n-grams (CountVectorizer ngram_range=(2,3)) ===\n",
            "Features: ['and grams' 'and grams are' 'are simple' 'are simple yet' 'bag of'\n",
            " 'bag of words' 'grams are' 'grams are simple' 'is fascinating'\n",
            " 'language processing' 'language processing is' 'love working'\n",
            " 'love working with' 'natural language' 'natural language processing'\n",
            " 'of words' 'of words and' 'processing is' 'processing is fascinating'\n",
            " 'simple yet' 'simple yet powerful' 'text data' 'with text'\n",
            " 'with text data' 'words and' 'words and grams' 'working with'\n",
            " 'working with text' 'yet powerful']\n",
            "Document-n-gram Matrix:\n",
            " [[0 0 0 0 0 0 0 0 1 1 1 0 0 1 1 0 0 1 1 0 0 0 0 0 0 0 0 0 0]\n",
            " [0 0 0 0 0 0 0 0 0 0 0 1 1 0 0 0 0 0 0 0 0 1 1 1 0 0 1 1 0]\n",
            " [1 1 1 1 1 1 1 1 0 0 0 0 0 0 0 1 1 0 0 1 1 0 0 0 1 1 0 0 1]]\n",
            "\n",
            "=== Bag-of-Words (TfidfVectorizer) ===\n",
            "Features: ['and' 'are' 'bag' 'data' 'fascinating' 'grams' 'is' 'language' 'love'\n",
            " 'natural' 'of' 'powerful' 'processing' 'simple' 'text' 'with' 'words'\n",
            " 'working' 'yet']\n",
            "TF-IDF Matrix:\n",
            " [[0.         0.         0.         0.         0.4472136  0.\n",
            "  0.4472136  0.4472136  0.         0.4472136  0.         0.\n",
            "  0.4472136  0.         0.         0.         0.         0.\n",
            "  0.        ]\n",
            " [0.         0.         0.         0.4472136  0.         0.\n",
            "  0.         0.         0.4472136  0.         0.         0.\n",
            "  0.         0.         0.4472136  0.4472136  0.         0.4472136\n",
            "  0.        ]\n",
            " [0.33333333 0.33333333 0.33333333 0.         0.         0.33333333\n",
            "  0.         0.         0.         0.         0.33333333 0.33333333\n",
            "  0.         0.33333333 0.         0.         0.33333333 0.\n",
            "  0.33333333]]\n"
          ]
        }
      ],
      "source": [
        "from sklearn.feature_extraction.text import CountVectorizer, TfidfVectorizer\n",
        "\n",
        "# Sample corpus\n",
        "corpus = [\n",
        "    \"Natural Language Processing is fascinating.\",\n",
        "    \"I love working with text data!\",\n",
        "    \"Bag of Words and n-grams are simple yet powerful.\"\n",
        "]\n",
        "\n",
        "# ---------------------------------------\n",
        "# a) Bag-of-Words using CountVectorizer\n",
        "# ---------------------------------------\n",
        "bow_vectorizer = CountVectorizer()  # default: unigram\n",
        "bow_matrix = bow_vectorizer.fit_transform(corpus)\n",
        "\n",
        "print(\"=== Bag-of-Words (CountVectorizer) ===\")\n",
        "print(\"Features:\", bow_vectorizer.get_feature_names_out())\n",
        "print(\"Document-Term Matrix:\\n\", bow_matrix.toarray())\n",
        "print()\n",
        "\n",
        "# -------------------------------------------------\n",
        "# b) Bag-of-n-grams using CountVectorizer\n",
        "# -------------------------------------------------\n",
        "# e.g., include bi-grams and tri-grams\n",
        "ngram_vectorizer = CountVectorizer(ngram_range=(2, 3))\n",
        "ngram_matrix = ngram_vectorizer.fit_transform(corpus)\n",
        "\n",
        "print(\"=== Bag-of-n-grams (CountVectorizer ngram_range=(2,3)) ===\")\n",
        "print(\"Features:\", ngram_vectorizer.get_feature_names_out())\n",
        "print(\"Document-n-gram Matrix:\\n\", ngram_matrix.toarray())\n",
        "print()\n",
        "\n",
        "# -------------------------------------------------\n",
        "# c) Bag-of-Words using TfidfVectorizer\n",
        "# -------------------------------------------------\n",
        "tfidf_vectorizer = TfidfVectorizer()\n",
        "tfidf_matrix = tfidf_vectorizer.fit_transform(corpus)\n",
        "\n",
        "print(\"=== Bag-of-Words (TfidfVectorizer) ===\")\n",
        "print(\"Features:\", tfidf_vectorizer.get_feature_names_out())\n",
        "print(\"TF-IDF Matrix:\\n\", tfidf_matrix.toarray())\n"
      ]
    },
    {
      "cell_type": "code",
      "source": [],
      "metadata": {
        "id": "ldVu9oeckLMx"
      },
      "execution_count": null,
      "outputs": []
    }
  ]
}